{
  "nbformat": 4,
  "nbformat_minor": 0,
  "metadata": {
    "colab": {
      "name": "EDA.ipynb",
      "provenance": [],
      "collapsed_sections": [],
      "toc_visible": true
    },
    "kernelspec": {
      "name": "python3",
      "display_name": "Python 3"
    },
    "language_info": {
      "name": "python"
    }
  },
  "cells": [
    {
      "cell_type": "markdown",
      "source": [
        "# Exploratory Data Analysis"
      ],
      "metadata": {
        "id": "flINDcvRwNvB"
      }
    },
    {
      "cell_type": "markdown",
      "source": [
        "## PySpark Setup"
      ],
      "metadata": {
        "id": "_OROu2jdwWRT"
      }
    },
    {
      "cell_type": "code",
      "source": [
        "!wget -q https://archive.apache.org/dist/spark/spark-3.2.0/spark-3.2.0-bin-hadoop2.7.tgz\n",
        "!tar xf spark-3.2.0-bin-hadoop2.7.tgz"
      ],
      "metadata": {
        "id": "-SliKjieaN__"
      },
      "execution_count": 1,
      "outputs": []
    },
    {
      "cell_type": "code",
      "execution_count": 2,
      "metadata": {
        "id": "pK5Cef-__h19",
        "colab": {
          "base_uri": "https://localhost:8080/"
        },
        "outputId": "51912021-ee8c-4cd0-f607-56eda5debf2d"
      },
      "outputs": [
        {
          "output_type": "stream",
          "name": "stdout",
          "text": [
            "Collecting pyspark\n",
            "  Downloading pyspark-3.2.1.tar.gz (281.4 MB)\n",
            "\u001b[K     |████████████████████████████████| 281.4 MB 28 kB/s \n",
            "\u001b[?25hCollecting py4j==0.10.9.3\n",
            "  Downloading py4j-0.10.9.3-py2.py3-none-any.whl (198 kB)\n",
            "\u001b[K     |████████████████████████████████| 198 kB 55.0 MB/s \n",
            "\u001b[?25hBuilding wheels for collected packages: pyspark\n",
            "  Building wheel for pyspark (setup.py) ... \u001b[?25l\u001b[?25hdone\n",
            "  Created wheel for pyspark: filename=pyspark-3.2.1-py2.py3-none-any.whl size=281853642 sha256=4cf2bcc2026af7efbc92d08626e86275b274f0ae43c4de5103c4938ed7468073\n",
            "  Stored in directory: /root/.cache/pip/wheels/9f/f5/07/7cd8017084dce4e93e84e92efd1e1d5334db05f2e83bcef74f\n",
            "Successfully built pyspark\n",
            "Installing collected packages: py4j, pyspark\n",
            "Successfully installed py4j-0.10.9.3 pyspark-3.2.1\n",
            "Cloning into 'DSCI632-Project'...\n",
            "remote: Enumerating objects: 15, done.\u001b[K\n",
            "remote: Counting objects: 100% (15/15), done.\u001b[K\n",
            "remote: Compressing objects: 100% (12/12), done.\u001b[K\n",
            "remote: Total 15 (delta 2), reused 5 (delta 1), pack-reused 0\u001b[K\n",
            "Unpacking objects: 100% (15/15), done.\n"
          ]
        }
      ],
      "source": [
        "import os\n",
        "os.environ[\"JAVA_HOME\"] = \"/usr/lib/jvm/java-11-openjdk-amd64\"\n",
        "os.environ[\"SPARK_HOME\"] = \"/content/spark-3.2.0-bin-hadoop2.7\"\n",
        "\n",
        "!pip install -q findspark\n",
        "!pip install pyspark\n",
        "\n",
        "!git clone https://github.com/avivfaraj/DSCI632-Project.git"
      ]
    },
    {
      "cell_type": "markdown",
      "source": [
        "## Read Dataset"
      ],
      "metadata": {
        "id": "fwr39OZlwYfl"
      }
    },
    {
      "cell_type": "code",
      "source": [
        "\n",
        "from pyspark.sql import SparkSession\n",
        "from pyspark.sql.types import StructType,StructField, StringType, IntegerType\n",
        "\n",
        "import pandas as pd\n",
        "\n",
        "spark = SparkSession.builder.appName(\"EDA\").master(\"local[*]\").getOrCreate()\n",
        "\n",
        "mySchema = StructType([ StructField(\"index\", IntegerType(), True)\\\n",
        "                       ,StructField(\"title\", StringType(), True)\\\n",
        "                       ,StructField(\"author\", StringType(), True)\\\n",
        "                       ,StructField(\"text\", StringType(), True)\\\n",
        "                       ,StructField(\"label\", IntegerType(), True)])\n",
        "\n",
        "path = \"./DSCI632-Project/data/train.csv\"\n",
        "pandas_df = pd.read_csv(path, header = 0)\n",
        "\n",
        "spark_df =spark.createDataFrame(pandas_df, schema = mySchema)\n",
        "spark_df.show(10)"
      ],
      "metadata": {
        "id": "SJyOb7_9_uVo",
        "colab": {
          "base_uri": "https://localhost:8080/"
        },
        "outputId": "fb8a6948-40be-4f7d-a603-e2f286608bde"
      },
      "execution_count": 3,
      "outputs": [
        {
          "output_type": "stream",
          "name": "stdout",
          "text": [
            "+-----+--------------------+--------------------+--------------------+-----+\n",
            "|index|               title|              author|                text|label|\n",
            "+-----+--------------------+--------------------+--------------------+-----+\n",
            "|    0|House Dem Aide: W...|       Darrell Lucus|House Dem Aide: W...|    1|\n",
            "|    1|FLYNN: Hillary Cl...|     Daniel J. Flynn|Ever get the feel...|    0|\n",
            "|    2|Why the Truth Mig...|  Consortiumnews.com|Why the Truth Mig...|    1|\n",
            "|    3|15 Civilians Kill...|     Jessica Purkiss|Videos 15 Civilia...|    1|\n",
            "|    4|Iranian woman jai...|      Howard Portnoy|Print \\nAn Irania...|    1|\n",
            "|    5|Jackie Mason: Hol...|     Daniel Nussbaum|In these trying t...|    0|\n",
            "|    6|Life: Life Of Lux...|                 NaN|Ever wonder how B...|    1|\n",
            "|    7|Benoît Hamon Wins...|     Alissa J. Rubin|PARIS  —   France...|    0|\n",
            "|    8|Excerpts From a D...|                 NaN|Donald J. Trump i...|    0|\n",
            "|    9|A Back-Channel Pl...|Megan Twohey and ...|A week before Mic...|    0|\n",
            "+-----+--------------------+--------------------+--------------------+-----+\n",
            "only showing top 10 rows\n",
            "\n"
          ]
        }
      ]
    },
    {
      "cell_type": "markdown",
      "source": [
        "## Distinct Authors"
      ],
      "metadata": {
        "id": "CKlkIxNkwbO3"
      }
    },
    {
      "cell_type": "code",
      "source": [
        "# Distinct Authors\n",
        "(spark_df\n",
        "    .filter(spark_df[\"author\"] != \"NaN\")    # Remove NaN values (missing values)\n",
        "    .select(\"author\")                       # Select author attribute\n",
        "    .rdd                                    # Conver to RDD\n",
        "    .map(lambda x: x[0].lower())            # Convert to lower case letters\n",
        "    .distinct()                             # Get unique author values\n",
        "    .count()                                # Count distinct authors\n",
        ")\n"
      ],
      "metadata": {
        "id": "bkiZSmwUW7f0",
        "colab": {
          "base_uri": "https://localhost:8080/"
        },
        "outputId": "355fc9b2-ad1f-44ec-ad9d-09c70b1837b6"
      },
      "execution_count": 4,
      "outputs": [
        {
          "output_type": "execute_result",
          "data": {
            "text/plain": [
              "4194"
            ]
          },
          "metadata": {},
          "execution_count": 4
        }
      ]
    },
    {
      "cell_type": "markdown",
      "source": [
        "## Class Balance"
      ],
      "metadata": {
        "id": "oIYMs86CwjYD"
      }
    },
    {
      "cell_type": "code",
      "source": [
        "####################### Code Citation #######################\n",
        "# Author: Rishikesh Kumar Rishi\n",
        "# Date: 09 October 2021\n",
        "# Title: Matplotlib – How to show the count values on the top of a bar in a countplot?\n",
        "# URL: https://www.tutorialspoint.com/matplotlib-how-to-show-the-count-values-on-the-top-of-a-bar-in-a-countplot\n",
        "#############################################################\n",
        "\n",
        "import seaborn as sns\n",
        "import matplotlib.pyplot as plt\n",
        "\n",
        "plt.rcParams[\"figure.figsize\"] = [12, 5]\n",
        "plt.rcParams[\"figure.autolayout\"] = True\n",
        "plt.rcParams.update({'font.size': 18})\n",
        "df = pd.DataFrame(dict(col1=spark_df.select(\"label\").rdd.map(lambda x: x[0]).collect()))\n",
        "\n",
        "ax = sns.countplot(x=\"col1\", data=df)\n",
        "ax.set_ylim([0, 12000])\n",
        "ax.set_xlabel(\"Target Column\")\n",
        "ax.set_title(\"Fake and Reliable News Instances Count\")\n",
        "ax.set_xticklabels([\"Reliable\", \"Fake\"])\n",
        "\n",
        "for patch in ax.patches:\n",
        "   ax.annotate('{:,d}'.format(patch.get_height()),                # Count\n",
        "               (patch.get_x()+0.35, patch.get_height()+100),          # x,y coordinates for label.\n",
        "               fontsize=16)   \n",
        "   \n",
        "plt.show()"
      ],
      "metadata": {
        "colab": {
          "base_uri": "https://localhost:8080/",
          "height": 352
        },
        "id": "AiWst6Sxp5VE",
        "outputId": "abf8ef39-6bbd-42ff-acc1-9095b91dd7a6"
      },
      "execution_count": 5,
      "outputs": [
        {
          "output_type": "display_data",
          "data": {
            "image/png": "[encoded data removed]",
            "text/plain": [
              "<Figure size 864x360 with 1 Axes>"
            ]
          },
          "metadata": {
            "needs_background": "light"
          }
        }
      ]
    },
    {
      "cell_type": "markdown",
      "source": [
        "## Text is missing"
      ],
      "metadata": {
        "id": "e061o-PFvWAP"
      }
    },
    {
      "cell_type": "code",
      "source": [
        "df_no_text = spark_df.filter(spark_df[\"text\"] == \"NaN\")\n",
        "\n",
        "print(\"Text is NaN: \" + str(df_no_text.count()) + \" Rows\")\n",
        "df_no_text.filter(df_no_text[\"author\"] == \"NaN\").count()"
      ],
      "metadata": {
        "colab": {
          "base_uri": "https://localhost:8080/"
        },
        "id": "T7sMCu8LtGGz",
        "outputId": "8ac6dbd0-e241-404b-cad4-8c027115204c"
      },
      "execution_count": 6,
      "outputs": [
        {
          "output_type": "stream",
          "name": "stdout",
          "text": [
            "Text is NaN: 39 Rows\n"
          ]
        },
        {
          "output_type": "execute_result",
          "data": {
            "text/plain": [
              "39"
            ]
          },
          "metadata": {},
          "execution_count": 6
        }
      ]
    },
    {
      "cell_type": "code",
      "source": [
        "df_no_text.filter(df_no_text[\"title\"] == \"NaN\").count()"
      ],
      "metadata": {
        "colab": {
          "base_uri": "https://localhost:8080/"
        },
        "id": "akJLEIZn12Kx",
        "outputId": "9701d40d-75e4-46e8-fbcb-d37f84333bc9"
      },
      "execution_count": 7,
      "outputs": [
        {
          "output_type": "execute_result",
          "data": {
            "text/plain": [
              "0"
            ]
          },
          "metadata": {},
          "execution_count": 7
        }
      ]
    },
    {
      "cell_type": "code",
      "source": [
        "df_no_text.filter(df_no_text[\"label\"] == 1).count() == df_no_text.count()"
      ],
      "metadata": {
        "colab": {
          "base_uri": "https://localhost:8080/"
        },
        "id": "AOJxZvj0wBsF",
        "outputId": "4ba19d86-281c-4f80-cc87-768a6e6d1842"
      },
      "execution_count": 8,
      "outputs": [
        {
          "output_type": "execute_result",
          "data": {
            "text/plain": [
              "True"
            ]
          },
          "metadata": {},
          "execution_count": 8
        }
      ]
    },
    {
      "cell_type": "markdown",
      "source": [
        "1. There are 39 rows missing text\n",
        "1. All text missing rows are also missing the author!\n",
        "2. All text missing rows are fake!"
      ],
      "metadata": {
        "id": "GW7lHxzcvcIe"
      }
    },
    {
      "cell_type": "markdown",
      "source": [
        "## Title is missing"
      ],
      "metadata": {
        "id": "sZKWiSZ5vQSL"
      }
    },
    {
      "cell_type": "code",
      "source": [
        "df_no_title = spark_df.filter(spark_df[\"title\"] == \"NaN\")\n"
      ],
      "metadata": {
        "id": "SXC0youOtQs6"
      },
      "execution_count": 9,
      "outputs": []
    },
    {
      "cell_type": "code",
      "source": [
        "df_no_title.filter(df_no_title[\"author\"] == \"NaN\").count() # 0\n",
        "df_no_title.filter(df_no_title[\"text\"] == \"NaN\").count() # 0"
      ],
      "metadata": {
        "colab": {
          "base_uri": "https://localhost:8080/"
        },
        "id": "O0boQ5V8txpY",
        "outputId": "9b387183-f931-4666-dfc5-74cd1565b5ab"
      },
      "execution_count": 10,
      "outputs": [
        {
          "output_type": "execute_result",
          "data": {
            "text/plain": [
              "0"
            ]
          },
          "metadata": {},
          "execution_count": 10
        }
      ]
    },
    {
      "cell_type": "code",
      "source": [
        "df_no_title.filter(df_no_title[\"label\"] == 1).count() == df_no_title.count()"
      ],
      "metadata": {
        "colab": {
          "base_uri": "https://localhost:8080/"
        },
        "id": "h4hSHASeul5V",
        "outputId": "1968b2c2-cdf5-4a94-fec4-a2bf476ac6d5"
      },
      "execution_count": 11,
      "outputs": [
        {
          "output_type": "execute_result",
          "data": {
            "text/plain": [
              "True"
            ]
          },
          "metadata": {},
          "execution_count": 11
        }
      ]
    },
    {
      "cell_type": "code",
      "source": [
        "df_no_title.count()"
      ],
      "metadata": {
        "colab": {
          "base_uri": "https://localhost:8080/"
        },
        "id": "Ju703hqCwd6K",
        "outputId": "247d5284-739e-47a9-e8c5-866b02cfc631"
      },
      "execution_count": 12,
      "outputs": [
        {
          "output_type": "execute_result",
          "data": {
            "text/plain": [
              "558"
            ]
          },
          "metadata": {},
          "execution_count": 12
        }
      ]
    },
    {
      "cell_type": "markdown",
      "source": [
        "1. There are 558 rows missing a title!\n",
        "1. All rows missing title, do not also miss both author and text values\n",
        "1. All rows missing title are fake!\n"
      ],
      "metadata": {
        "id": "vpLaPwpmvhlt"
      }
    },
    {
      "cell_type": "markdown",
      "source": [
        "## Author is missing"
      ],
      "metadata": {
        "id": "G2-iMatSvZNg"
      }
    },
    {
      "cell_type": "code",
      "source": [
        "df_no_author = spark_df.filter(spark_df[\"author\"] == \"NaN\")\n",
        "df_no_author.count()"
      ],
      "metadata": {
        "colab": {
          "base_uri": "https://localhost:8080/"
        },
        "id": "geu8iWR4wXhC",
        "outputId": "9419bd4a-1154-4602-c898-9051c4b4cb5b"
      },
      "execution_count": 13,
      "outputs": [
        {
          "output_type": "execute_result",
          "data": {
            "text/plain": [
              "1957"
            ]
          },
          "metadata": {},
          "execution_count": 13
        }
      ]
    },
    {
      "cell_type": "code",
      "source": [
        "df_no_author.filter(df_no_author[\"label\"] == 1).count()"
      ],
      "metadata": {
        "colab": {
          "base_uri": "https://localhost:8080/"
        },
        "id": "C14oJ_GBwcJX",
        "outputId": "0acdb177-27f3-479c-c25e-4354c393a788"
      },
      "execution_count": 14,
      "outputs": [
        {
          "output_type": "execute_result",
          "data": {
            "text/plain": [
              "1931"
            ]
          },
          "metadata": {},
          "execution_count": 14
        }
      ]
    },
    {
      "cell_type": "code",
      "source": [
        "df_no_author.filter(df_no_author[\"label\"] == 0).count()"
      ],
      "metadata": {
        "colab": {
          "base_uri": "https://localhost:8080/"
        },
        "id": "ih7mjvrYwvNc",
        "outputId": "08a463ed-07e7-496d-f8b3-a7a7003a9e20"
      },
      "execution_count": 15,
      "outputs": [
        {
          "output_type": "execute_result",
          "data": {
            "text/plain": [
              "26"
            ]
          },
          "metadata": {},
          "execution_count": 15
        }
      ]
    },
    {
      "cell_type": "code",
      "source": [
        "1957+558\n",
        "(2515-26)/2515"
      ],
      "metadata": {
        "colab": {
          "base_uri": "https://localhost:8080/"
        },
        "id": "vVzBguqjxfV3",
        "outputId": "b512e0e3-abf4-4985-f096-882f08d860dc"
      },
      "execution_count": 16,
      "outputs": [
        {
          "output_type": "execute_result",
          "data": {
            "text/plain": [
              "0.989662027833002"
            ]
          },
          "metadata": {},
          "execution_count": 16
        }
      ]
    },
    {
      "cell_type": "markdown",
      "source": [
        "1. There are 1957 rows missing an author!\n",
        "1. Among these 1957 rows, 1931 are fake and 26 are reliable!\n",
        "1. Overall missing values could indicate fake news since the majority of rows missing one or more values are also fake. In other words: \n",
        "There are 1957 rows missing an author and an additional 558 rows missing a title. The rows missing the text are included since they are all missing the author as well. Overall there are 2515 rows missing one or more feature. 26 of them are marked as reliable which means that 98.96% of all rows missing at least one feature are fake!"
      ],
      "metadata": {
        "id": "tL3HfYC4wz7w"
      }
    },
    {
      "cell_type": "markdown",
      "source": [
        "## Not missing at all"
      ],
      "metadata": {
        "id": "atwxGG5Bx7Uc"
      }
    },
    {
      "cell_type": "code",
      "source": [
        "df_all_features = (spark_df\n",
        "                    .filter(spark_df[\"author\"] != \"NaN\")\n",
        "                    .filter(spark_df[\"title\"] != \"NaN\"))\n",
        "\n",
        "df_all_features.count()"
      ],
      "metadata": {
        "colab": {
          "base_uri": "https://localhost:8080/"
        },
        "id": "Hu21lbVowyEQ",
        "outputId": "b94a31bb-f4c9-4e07-c71e-c75d6789b60e"
      },
      "execution_count": 17,
      "outputs": [
        {
          "output_type": "execute_result",
          "data": {
            "text/plain": [
              "18285"
            ]
          },
          "metadata": {},
          "execution_count": 17
        }
      ]
    },
    {
      "cell_type": "code",
      "source": [
        "df_all_features.filter(df_all_features[\"label\"] == 0).count()"
      ],
      "metadata": {
        "colab": {
          "base_uri": "https://localhost:8080/"
        },
        "id": "wY74sepPyPYJ",
        "outputId": "a7b50d7c-18f0-47ce-c14c-bf9282656cd2"
      },
      "execution_count": 18,
      "outputs": [
        {
          "output_type": "execute_result",
          "data": {
            "text/plain": [
              "10361"
            ]
          },
          "metadata": {},
          "execution_count": 18
        }
      ]
    },
    {
      "cell_type": "code",
      "source": [
        "from pyspark.sql.functions import col\n",
        "df_all_features.filter(col(\"label\") == 1).count()"
      ],
      "metadata": {
        "colab": {
          "base_uri": "https://localhost:8080/"
        },
        "id": "lIQQqRe3yZnH",
        "outputId": "a40f988c-fddd-4dbb-87f2-a0fd8a08dcf2"
      },
      "execution_count": 19,
      "outputs": [
        {
          "output_type": "execute_result",
          "data": {
            "text/plain": [
              "7924"
            ]
          },
          "metadata": {},
          "execution_count": 19
        }
      ]
    },
    {
      "cell_type": "markdown",
      "source": [
        "1. There are 18,285 rows that are not missing any feature\n",
        "1. 10,361 out of these rows are reliable, whereas the other 7,924 are marked as fake!\n"
      ],
      "metadata": {
        "id": "eUVDK8Eky2BS"
      }
    }
  ]
}